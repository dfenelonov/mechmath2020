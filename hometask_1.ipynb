{
  "nbformat": 4,
  "nbformat_minor": 0,
  "metadata": {
    "colab": {
      "name": "Untitled14.ipynb",
      "provenance": [],
      "collapsed_sections": []
    },
    "kernelspec": {
      "name": "python3",
      "display_name": "Python 3"
    }
  },
  "cells": [
    {
      "cell_type": "code",
      "metadata": {
        "id": "FH9BZCTYQqli",
        "colab_type": "code",
        "colab": {}
      },
      "source": [
        "class Test:\n",
        "    @staticmethod\n",
        "    def assert_equals(a, b, *args, **kwargs):\n",
        "        assert a == b\n",
        "        print('Passed')"
      ],
      "execution_count": 1,
      "outputs": []
    },
    {
      "cell_type": "markdown",
      "metadata": {
        "id": "6AuONtGPZ-V4",
        "colab_type": "text"
      },
      "source": [
        "https://edabit.com/challenge/QN4RMpAnktNvMCWwg"
      ]
    },
    {
      "cell_type": "code",
      "metadata": {
        "id": "c3uLDPuYQvD0",
        "colab_type": "code",
        "colab": {}
      },
      "source": [
        "def id_mtrx(n):\n",
        "\tif not type(n) == int: return 'Error'\n",
        "\tmatrix = [[0 for x in range (abs(n))] for y in range(abs(n))]\n",
        "\tfor i in range(abs(n)):\n",
        "\t\tmatrix[i][i] = 1\n",
        "\tif n < 0:\n",
        "\t\tmatrix.reverse()\n",
        "\treturn matrix"
      ],
      "execution_count": 2,
      "outputs": []
    },
    {
      "cell_type": "code",
      "metadata": {
        "id": "qZLteVQRQxlf",
        "colab_type": "code",
        "colab": {
          "base_uri": "https://localhost:8080/",
          "height": 126
        },
        "outputId": "d05c6f1d-bd5b-4081-e934-6484a58917e1"
      },
      "source": [
        "Test.assert_equals(id_mtrx(1), [[1]])\n",
        "Test.assert_equals(id_mtrx(2), [[1, 0], [0, 1]])\n",
        "Test.assert_equals(id_mtrx(3), [[1, 0, 0], [0, 1, 0], [0, 0, 1]])\n",
        "Test.assert_equals(id_mtrx(4), [[1, 0, 0, 0], [0, 1, 0, 0], [0, 0, 1, 0], [0, 0, 0, 1]])\n",
        "Test.assert_equals(id_mtrx(-6), [[0, 0, 0, 0, 0, 1], [0, 0, 0, 0, 1, 0], [0, 0, 0, 1, 0, 0], [0, 0, 1, 0, 0, 0], [0, 1, 0, 0, 0, 0], [1, 0, 0, 0, 0, 0]])\n",
        "Test.assert_equals(id_mtrx(\"edabit\"), \"Error\", 'Incompatible types passed as n should return the string \"Error\".')"
      ],
      "execution_count": 3,
      "outputs": [
        {
          "output_type": "stream",
          "text": [
            "Passed\n",
            "Passed\n",
            "Passed\n",
            "Passed\n",
            "Passed\n",
            "Passed\n"
          ],
          "name": "stdout"
        }
      ]
    },
    {
      "cell_type": "markdown",
      "metadata": {
        "id": "a383iuMSbgY6",
        "colab_type": "text"
      },
      "source": [
        "https://edabit.com/challenge/S7rdJsn6vkfC9BzcR"
      ]
    },
    {
      "cell_type": "code",
      "metadata": {
        "id": "xPbCEmGeTrbk",
        "colab_type": "code",
        "colab": {}
      },
      "source": [
        "class Employee:\n",
        "    \n",
        "    def __init__(self, full_name, **kwargs):\n",
        "        self.full_name = full_name\n",
        "        self.name, self.lastname = full_name.split()\n",
        "        self.__dict__.update(kwargs)"
      ],
      "execution_count": 4,
      "outputs": []
    },
    {
      "cell_type": "code",
      "metadata": {
        "id": "JR9scTcjUyL4",
        "colab_type": "code",
        "colab": {
          "base_uri": "https://localhost:8080/",
          "height": 108
        },
        "outputId": "e55b26a5-bbf4-4513-b2fa-96fd4fb8a4e0"
      },
      "source": [
        "john = Employee('John Doe')\n",
        "mary = Employee('Mary Major', salary=120000)\n",
        "richard = Employee('Richard Roe', salary=110000, height=178)\n",
        "giancarlo = Employee('Giancarlo Rossi', salary=115000, height=182, nationality='Italian')\n",
        "peng = Employee('Peng Zhu', salary=500000, height=185, nationality='Chinese', subordinates=[i.lastname for i in (john, mary, richard, giancarlo)])\n",
        "\n",
        "\n",
        "Test.assert_equals(john.lastname, 'Doe', 'John\\'s lastname should be \"Doe\"')\n",
        "Test.assert_equals(mary.salary, 120000, 'Mary\\'s salary should be 120000')\n",
        "Test.assert_equals(richard.height, 178, 'Richard\\'s height should be 178')\n",
        "Test.assert_equals(giancarlo.nationality, 'Italian', 'Giancarlo\\'s nationality should be \"Italian\"')\n",
        "Test.assert_equals(peng.subordinates, ['Doe', 'Major', 'Roe', 'Rossi'], 'Peng\\'s subordinates should be a list containing 4 strings')"
      ],
      "execution_count": 7,
      "outputs": [
        {
          "output_type": "stream",
          "text": [
            "Passed\n",
            "Passed\n",
            "Passed\n",
            "Passed\n",
            "Passed\n"
          ],
          "name": "stdout"
        }
      ]
    },
    {
      "cell_type": "markdown",
      "metadata": {
        "id": "Yl_VtgUwbnQ7",
        "colab_type": "text"
      },
      "source": [
        "https://edabit.com/challenge/NC888jKPkquSDqaaH"
      ]
    },
    {
      "cell_type": "code",
      "metadata": {
        "id": "zmgrOcEvXz1w",
        "colab_type": "code",
        "colab": {}
      },
      "source": [
        "def clean_up(files, sort):\n",
        "\tres = []\n",
        "\tif sort == \"prefix\":\n",
        "\n",
        "\t\tfor f in files:\n",
        "\t\t\tname, extension = f.split('.')\n",
        "\t\t\tgroup = [i for i in files if i.startswith(name)]\n",
        "\t\t\tif group not in res:\n",
        "\t\t\t\tres.append(group)\n",
        "\t\treturn res\n",
        "\telse:\n",
        "\t\tfor f in files:\n",
        "\t\t\tname, extension = f.split('.')\n",
        "\t\t\tgroup = [i for i in files if i.endswith(extension)]\n",
        "\t\t\tif group not in res:\n",
        "\t\t\t\tres.append(group)\n",
        "\t\treturn res"
      ],
      "execution_count": 8,
      "outputs": []
    },
    {
      "cell_type": "code",
      "metadata": {
        "id": "OcRXvB3lX3WI",
        "colab_type": "code",
        "colab": {
          "base_uri": "https://localhost:8080/",
          "height": 90
        },
        "outputId": "396e3094-d13f-4d4a-c8d4-a06ea5889a07"
      },
      "source": [
        "Test.assert_equals(clean_up(['music_app.js', 'music_app.png', 'music_app.wav', 'tetris.png', 'tetris.js'], 'prefix'), [['music_app.js', 'music_app.png', 'music_app.wav'], ['tetris.png', 'tetris.js']])\n",
        "Test.assert_equals(clean_up(['_1.rb', '_2.rb', '_3.rb', '_4.rb'], 'suffix'), [['_1.rb', '_2.rb', '_3.rb', '_4.rb']])\n",
        "Test.assert_equals(clean_up(['_1.rb', '_2.rb', '_3.rb', '_4.rb'], 'prefix'), [['_1.rb'], ['_2.rb'], ['_3.rb'], ['_4.rb']])\n",
        "Test.assert_equals(clean_up(['project1.html', 'project2.html', 'project1.css', 'project2.css', 'project1.js', 'project2.js'], 'suffix'), [['project1.html', 'project2.html'], ['project1.css', 'project2.css'], ['project1.js', 'project2.js']])"
      ],
      "execution_count": 9,
      "outputs": [
        {
          "output_type": "stream",
          "text": [
            "Passed\n",
            "Passed\n",
            "Passed\n",
            "Passed\n"
          ],
          "name": "stdout"
        }
      ]
    }
  ]
}
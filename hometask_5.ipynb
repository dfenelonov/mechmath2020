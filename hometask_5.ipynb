{
  "nbformat": 4,
  "nbformat_minor": 0,
  "metadata": {
    "kernelspec": {
      "display_name": "Python 3",
      "language": "python",
      "name": "python3"
    },
    "language_info": {
      "codemirror_mode": {
        "name": "ipython",
        "version": 3
      },
      "file_extension": ".py",
      "mimetype": "text/x-python",
      "name": "python",
      "nbconvert_exporter": "python",
      "pygments_lexer": "ipython3",
      "version": "3.6.2"
    },
    "colab": {
      "name": "hometask_5.ipynb",
      "provenance": [],
      "collapsed_sections": []
    }
  },
  "cells": [
    {
      "cell_type": "markdown",
      "metadata": {
        "id": "0aRCzXYcdiYx"
      },
      "source": [
        "# Случайность в вероятности и на практике\n",
        "\n",
        "О подходах к понятию случайности: \n",
        "\n",
        "Н.К. Верещагин, В.А. Успенский, А. Шень. Колмогоровская сложность и алгоритмическая случайность. \n",
        "https://www.mccme.ru/free-books/shen/kolmbook.pdf\n",
        "\n",
        "А.Н. Ширяев. Случайность в вероятности (доклад на семинаре кафедры теории веротяностей). http://www.mathnet.ru:8080/PresentFiles/21897/bsk_2018_10_17_shiryaev_an_randomness_in_probability_slides.pdf"
      ]
    },
    {
      "cell_type": "markdown",
      "metadata": {
        "id": "gGaMEWqqdiYz"
      },
      "source": [
        "## Генераторы случайных чисел"
      ]
    },
    {
      "cell_type": "markdown",
      "metadata": {
        "id": "KKkc3qORdiY0"
      },
      "source": [
        "Что происходит при вызове, напрмер, ```np.random.rand()```?\n",
        "\n",
        "Как устроен источник случайной последовательности?\n",
        "\n",
        "![img](https://cdn.ablebits.com/_img-blog/random-generator/random-generator.png)"
      ]
    },
    {
      "cell_type": "markdown",
      "metadata": {
        "id": "z9EkarifdiY2"
      },
      "source": [
        "Рассмотрим простой и популрный алгоритм - Linear congruential generator (LCG). При вызове функции ```rand()``` в C/C++ происзодит обращение именно к LCG."
      ]
    },
    {
      "cell_type": "markdown",
      "metadata": {
        "id": "sx9CIKsSdiY2"
      },
      "source": [
        "Linear congruential generator производит последовательность:\n",
        "$$ z_{i+1} = (az_i + c) \\mod m $$\n",
        "\n",
        "Число $z_0$ называется *seed* и обеспечивает воспроизводимость последовательности “случайных” чисел.\n",
        "\n",
        "Напишем функцию, которая реализует LCG:"
      ]
    },
    {
      "cell_type": "code",
      "metadata": {
        "id": "LqxgMijIdiY3"
      },
      "source": [
        "def rng(m=2**32, a=1103515245, c=12345):\n",
        "    rng.current = (a * rng.current + c) % m\n",
        "    return rng.current / m\n",
        "\n",
        "# setting the seed\n",
        "rng.current = 1"
      ],
      "execution_count": null,
      "outputs": []
    },
    {
      "cell_type": "markdown",
      "metadata": {
        "id": "d0AqPXS7diY5"
      },
      "source": [
        "Выведем несколько первых элементов последовательности:"
      ]
    },
    {
      "cell_type": "code",
      "metadata": {
        "id": "osNjN2U4diY6",
        "colab": {
          "base_uri": "https://localhost:8080/"
        },
        "outputId": "f74e9933-6fe0-4a77-bd9e-9747cf239b63"
      },
      "source": [
        "[rng() for i in range(10)]"
      ],
      "execution_count": null,
      "outputs": [
        {
          "output_type": "execute_result",
          "data": {
            "text/plain": [
              "[0.25693503906950355,\n",
              " 0.5878706516232342,\n",
              " 0.15432575810700655,\n",
              " 0.767266943352297,\n",
              " 0.9738139626570046,\n",
              " 0.5858681506942958,\n",
              " 0.8511155843734741,\n",
              " 0.6132153405342251,\n",
              " 0.7473867232911289,\n",
              " 0.06236015981994569]"
            ]
          },
          "metadata": {
            "tags": []
          },
          "execution_count": 3
        }
      ]
    },
    {
      "cell_type": "markdown",
      "metadata": {
        "id": "xZXUiK0idiY9"
      },
      "source": [
        "Выбор параметров $m$, $a$ и $c$ существенно влияет на качество последовательности. Если параметры выбрать наобум, это может привести к неожиданным последствиям:"
      ]
    },
    {
      "cell_type": "code",
      "metadata": {
        "id": "9DWifIyadiY9",
        "colab": {
          "base_uri": "https://localhost:8080/"
        },
        "outputId": "f5011d14-349b-4a96-9e48-f7206434220c"
      },
      "source": [
        "def rng(m=97, a=5, c=0):\n",
        "    rng.current = (a * rng.current + c) % m\n",
        "    return rng.current / m\n",
        "rng.current = 7\n",
        "\n",
        "random = [rng() for i in range(1000)]\n",
        "print(\"This sequence looks as random:\")\n",
        "random[:10]"
      ],
      "execution_count": null,
      "outputs": [
        {
          "output_type": "stream",
          "text": [
            "This sequence looks as random:\n"
          ],
          "name": "stdout"
        },
        {
          "output_type": "execute_result",
          "data": {
            "text/plain": [
              "[0.36082474226804123,\n",
              " 0.8041237113402062,\n",
              " 0.020618556701030927,\n",
              " 0.10309278350515463,\n",
              " 0.5154639175257731,\n",
              " 0.5773195876288659,\n",
              " 0.8865979381443299,\n",
              " 0.4329896907216495,\n",
              " 0.16494845360824742,\n",
              " 0.8247422680412371]"
            ]
          },
          "metadata": {
            "tags": []
          },
          "execution_count": 4
        }
      ]
    },
    {
      "cell_type": "markdown",
      "metadata": {
        "id": "ClnjUt9ddiY_"
      },
      "source": [
        "Гистограмма распределения похожа на равномерное:"
      ]
    },
    {
      "cell_type": "code",
      "metadata": {
        "id": "wBlZwI6ndiZA",
        "colab": {
          "base_uri": "https://localhost:8080/",
          "height": 265
        },
        "outputId": "4345b89f-c11f-42a4-d529-c8b04585c09f"
      },
      "source": [
        "import matplotlib.pyplot as plt\n",
        "plt.hist(random)\n",
        "plt.show()"
      ],
      "execution_count": 3,
      "outputs": [
        {
          "output_type": "display_data",
          "data": {
            "image/png": "[encoded data removed]",
            "text/plain": [
              "<Figure size 432x288 with 1 Axes>"
            ]
          },
          "metadata": {
            "tags": [],
            "needs_background": "light"
          }
        }
      ]
    },
    {
      "cell_type": "markdown",
      "metadata": {
        "id": "jK0-W5ZbdiZC"
      },
      "source": [
        "Однако, спектральный тест показывает, что точки располагаются на гиперплоскостях, что плохо согласуется с предствалением о случайности:"
      ]
    },
    {
      "cell_type": "code",
      "metadata": {
        "id": "id0Wt3W1diZC",
        "colab": {
          "base_uri": "https://localhost:8080/",
          "height": 265
        },
        "outputId": "f8cc25fe-787b-427f-ad41-c868a1631fd0"
      },
      "source": [
        "plt.scatter(random[1:], random[:-1])\n",
        "plt.show()"
      ],
      "execution_count": null,
      "outputs": [
        {
          "output_type": "display_data",
          "data": {
            "image/png": "[encoded data removed]",
            "text/plain": [
              "<Figure size 432x288 with 1 Axes>"
            ]
          },
          "metadata": {
            "tags": [],
            "needs_background": "light"
          }
        }
      ]
    },
    {
      "cell_type": "markdown",
      "metadata": {
        "id": "acoBBpJ3diZE"
      },
      "source": [
        "Более аккуратный выбор параметров приводит с более \"случайному\" распределению:"
      ]
    },
    {
      "cell_type": "code",
      "metadata": {
        "id": "bFEQUw_DdiZE",
        "colab": {
          "base_uri": "https://localhost:8080/",
          "height": 265
        },
        "outputId": "e2da1c4c-c09c-4332-cbfd-0fdf42c12562"
      },
      "source": [
        "def rng(m=2**32, a=1103515245, c=12345):\n",
        "    rng.current = (a * rng.current + c) % m\n",
        "    return rng.current / m\n",
        "rng.current = 1\n",
        "\n",
        "random = [rng() for i in range(1000)]\n",
        "plt.scatter(random[1:], random[:-1])\n",
        "plt.show()"
      ],
      "execution_count": null,
      "outputs": [
        {
          "output_type": "display_data",
          "data": {
            "image/png": "[encoded data removed]",
            "text/plain": [
              "<Figure size 432x288 with 1 Axes>"
            ]
          },
          "metadata": {
            "tags": [],
            "needs_background": "light"
          }
        }
      ]
    },
    {
      "cell_type": "markdown",
      "metadata": {
        "id": "vH11PZr2diZG"
      },
      "source": [
        "Существует набор тестов для проверки \"случайности\". Например, тесты [Diehard tests](https://en.wikipedia.org/wiki/Diehard_tests)."
      ]
    },
    {
      "cell_type": "markdown",
      "metadata": {
        "id": "E-_a6vHFhzGq"
      },
      "source": [
        "Больше методов генерации собрано [здесь](https://en.wikipedia.org/wiki/List_of_random_number_generators)."
      ]
    },
    {
      "cell_type": "markdown",
      "metadata": {
        "id": "FfK7kS345riV"
      },
      "source": [
        "Сюжет про динамические системы и переход к хаосу https://www.youtube.com/watch?v=ovJcsL7vyrk&feature=youtu.be"
      ]
    },
    {
      "cell_type": "markdown",
      "metadata": {
        "id": "cuGe1hKIdiZH"
      },
      "source": [
        "## Генерация выборки из заданного распределения"
      ]
    },
    {
      "cell_type": "markdown",
      "metadata": {
        "id": "P_aljqUUdiZH"
      },
      "source": [
        "Допустим, у нас есть генератор случайных числе из отрезка [0, 1]. Как получить выборку из нового распределения $F$?\n",
        "\n"
      ]
    },
    {
      "cell_type": "markdown",
      "metadata": {
        "id": "nicNq6-yrD7P"
      },
      "source": [
        "### Задача\n",
        "Смоделировать выборку объема 1000 из дискретного распределения на множестве цифр 0, 1, 2, ..., 9 с весами 0.12, 0.3, 0.167, 0.24, 0.31, 0.54, 0.111, 0.02, 0.001, 0.2. По выборке построить гистограмму. Оптимизируйте алгоритм, упорядочив веса. Сравните время генерации выборки с неупорядоченными и упорядоченными весами.\n"
      ]
    },
    {
      "cell_type": "code",
      "metadata": {
        "id": "2djF1xMoq_1f",
        "colab": {
          "base_uri": "https://localhost:8080/",
          "height": 549
        },
        "outputId": "dbfb9e4a-c512-4918-d019-2aea872ac296"
      },
      "source": [
        "import time as tm\r\n",
        "import numpy as np\r\n",
        "import math as mt\r\n",
        "import random as rn\r\n",
        "arr = np.array([0.12, 0.3, 0.167, 0.24, 0.31, 0.54, 0.111, 0.02, 0.001, 0.2])\r\n",
        "s_t = tm.time()\r\n",
        "arr_1 = arr / arr.sum()\r\n",
        "arr_1 = arr_1.cumsum()\r\n",
        "rnd = np.random.rand(1000)\r\n",
        "random = np.searchsorted(arr_1, rnd)\r\n",
        "e_t = tm.time()\r\n",
        "plt.hist(random)\r\n",
        "plt.show()\r\n",
        "print('elapsed:', e_t - s_t)\r\n",
        "\r\n",
        "s_t = tm.time()\r\n",
        "arr_2 = np.sort(arr)\r\n",
        "ind = np.argsort(arr)\r\n",
        "arr_2 /= arr_2.sum()\r\n",
        "arr_2 = arr_2.cumsum()\r\n",
        "rnd = np.random.rand(1000)\r\n",
        "random = ind[np.searchsorted(arr_2, rnd)]\r\n",
        "e_t = tm.time()\r\n",
        "plt.hist(random)\r\n",
        "plt.show()\r\n",
        "print('elapsed:', e_t - s_t)"
      ],
      "execution_count": 4,
      "outputs": [
        {
          "output_type": "display_data",
          "data": {
            "image/png": "[encoded data removed]",
            "text/plain": [
              "<Figure size 432x288 with 1 Axes>"
            ]
          },
          "metadata": {
            "tags": [],
            "needs_background": "light"
          }
        },
        {
          "output_type": "stream",
          "text": [
            "elapsed: 0.0003085136413574219\n"
          ],
          "name": "stdout"
        },
        {
          "output_type": "display_data",
          "data": {
            "image/png": "[encoded data removed]",
            "text/plain": [
              "<Figure size 432x288 with 1 Axes>"
            ]
          },
          "metadata": {
            "tags": [],
            "needs_background": "light"
          }
        },
        {
          "output_type": "stream",
          "text": [
            "elapsed: 0.0005362033843994141\n"
          ],
          "name": "stdout"
        }
      ]
    },
    {
      "cell_type": "markdown",
      "metadata": {
        "id": "F-VMprlQdiZJ"
      },
      "source": [
        "### Inverse transform method"
      ]
    },
    {
      "cell_type": "markdown",
      "metadata": {
        "id": "DXgRVEkidiZJ"
      },
      "source": [
        "В следующем предложении заключается идея метода *inverse transform*:\n",
        "\n",
        "Если $\\xi$ имеет равномерное распределение в $[0,1]$, тогда $F^{-1}(\\xi)$ распределена по закону $F$. (Для каких $F$ это верно?)"
      ]
    },
    {
      "cell_type": "markdown",
      "metadata": {
        "id": "LlRNa517diZK"
      },
      "source": [
        "### Задача\n",
        "Смоделируйте выборку размера 1000 из распределения $Exp(\\lambda)$. Постройте выборочную гистограмму и точный график плотности распределения."
      ]
    },
    {
      "cell_type": "code",
      "metadata": {
        "id": "vD1_buYgdiZK",
        "colab": {
          "base_uri": "https://localhost:8080/",
          "height": 265
        },
        "outputId": "b6afa950-1e86-4842-8d6d-a836916e7a8b"
      },
      "source": [
        "lam = 1\r\n",
        "rnd = np.random.rand(1000)\r\n",
        "random = [-1 / lam * np.log(1 - rnd[i]) for i in range(1000)]\r\n",
        "plt.hist(random, bins = 30, density = True)\r\n",
        "\r\n",
        "X = np.linspace(0, 10, 256)\r\n",
        "D = lam * np.exp(-lam * X)\r\n",
        "plt.fill_between(X, 0, D, color = 'r')\r\n",
        "plt.show()"
      ],
      "execution_count": null,
      "outputs": [
        {
          "output_type": "display_data",
          "data": {
            "image/png": "[encoded data removed]",
            "text/plain": [
              "<Figure size 432x288 with 1 Axes>"
            ]
          },
          "metadata": {
            "tags": [],
            "needs_background": "light"
          }
        }
      ]
    },
    {
      "cell_type": "markdown",
      "metadata": {
        "id": "UEtDHxDUdiZM"
      },
      "source": [
        "### Rejection sampling (Accept-reject method)\n",
        "\n",
        "Идея метода: сэмплить из распределения, из которого умеем, а затем отбирать точки, которые следуют нужному распределению. Картинка иллюстрирует идею метода:\n",
        "<img src=https://colcarroll.github.io/hamiltonian_monte_carlo_talk/images/bayes_talk.015.png style=\"width: 50%;\"/>\n",
        " "
      ]
    },
    {
      "cell_type": "markdown",
      "metadata": {
        "id": "Tgzc6QjxdiZN"
      },
      "source": [
        "### Задача\n",
        "Обоснуйте, что метод accept-reject действительно производит выборку из нужного распределения. Смоделируйте 1000 точек из усеченного распределения Коши, приведенного ниже, используя генератор равномерного распределения. Нарисуйте график полученной выборочной гистограммы и сравните его с графиком точной функции плотности."
      ]
    },
    {
      "cell_type": "code",
      "metadata": {
        "id": "06HcUVFBdiZN",
        "colab": {
          "base_uri": "https://localhost:8080/",
          "height": 265
        },
        "outputId": "e277f84b-48c5-4adb-c1bd-c3c3fd68f6ed"
      },
      "source": [
        "from scipy import stats\n",
        "import numpy as np\n",
        "dist = stats.cauchy()\n",
        "x = np.linspace(-4, 4, 100)\n",
        "plt.fill_between(x, 0, dist.pdf(x)) #needs to be normalized!\n",
        "plt.show()\n"
      ],
      "execution_count": null,
      "outputs": [
        {
          "output_type": "display_data",
          "data": {
            "image/png": "[encoded data removed]",
            "text/plain": [
              "<Figure size 432x288 with 1 Axes>"
            ]
          },
          "metadata": {
            "tags": [],
            "needs_background": "light"
          }
        }
      ]
    },
    {
      "cell_type": "code",
      "metadata": {
        "id": "O6uRvW8pdiZP",
        "colab": {
          "base_uri": "https://localhost:8080/",
          "height": 265
        },
        "outputId": "3d6f6419-b1de-46b8-ae84-96dde2cefdde"
      },
      "source": [
        "k = 1 / (2 * mt.atan(4))\r\n",
        "n = 0\r\n",
        "res = []\r\n",
        "while(n < 1000):\r\n",
        "    x = rn.uniform(-4, 4)\r\n",
        "    y = rn.uniform(0, k)\r\n",
        "    if(y < k / (1 + x * x)):\r\n",
        "        res.append(x)\r\n",
        "        n += 1\r\n",
        "plt.hist(res, bins = 20, density = True)\r\n",
        "\r\n",
        "X = np.linspace(-4, 4, 100)\r\n",
        "D = k / (1 + X ** 2)\r\n",
        "plt.fill_between(X, 0, D, color = 'r')\r\n",
        "plt.show()"
      ],
      "execution_count": null,
      "outputs": [
        {
          "output_type": "display_data",
          "data": {
            "image/png": "[encoded data removed]",
            "text/plain": [
              "<Figure size 432x288 with 1 Axes>"
            ]
          },
          "metadata": {
            "tags": [],
            "needs_background": "light"
          }
        }
      ]
    },
    {
      "cell_type": "markdown",
      "metadata": {
        "id": "kq8tMmPYdiZS"
      },
      "source": [
        "##  Coordinate transformation method\n",
        "\n",
        "Метод аccept-reject в ряде случаев может оказываться неэффективным и требовать слишком много пробных точек. Альтернатива -  попробовать найти преобразование координат, которое переводит простую область (из которой легко сэмплить, например, едининчный квадрат) в требуемую, но при этом сохраняет соотношение площадей."
      ]
    },
    {
      "cell_type": "markdown",
      "metadata": {
        "id": "xGIRsM7KdiZS"
      },
      "source": [
        "### Задача\n",
        "Смоделировать выборку из 500 точек равномерно распределенных внутри данного треугольника без использования метода отбора. "
      ]
    },
    {
      "cell_type": "code",
      "metadata": {
        "id": "V-aQwOVvdiZT",
        "outputId": "d6e9958f-57ab-4224-9974-13bc6b7bc351"
      },
      "source": [
        "import matplotlib\n",
        "from matplotlib.patches import Polygon\n",
        "from matplotlib.collections import PatchCollection\n",
        "\n",
        "polygon = Polygon(0.1 * np.array([[1, 2], [2, 9], [8, 1]]), True)\n",
        "plt.gca().add_collection(PatchCollection([polygon]))\n",
        "plt.show()"
      ],
      "execution_count": null,
      "outputs": [
        {
          "output_type": "display_data",
          "data": {
            "image/png": "[encoded data removed]",
            "text/plain": [
              "<matplotlib.figure.Figure at 0x91140b8>"
            ]
          },
          "metadata": {
            "tags": []
          }
        }
      ]
    },
    {
      "cell_type": "code",
      "metadata": {
        "id": "_x5KNetcdiZU",
        "colab": {
          "base_uri": "https://localhost:8080/",
          "height": 265
        },
        "outputId": "1bd81cbd-056a-4aa6-9b47-dcd034760e28"
      },
      "source": [
        "rnd_0 = np.random.rand(500)\r\n",
        "rnd_1 = np.array([(1 - mt.sqrt(1 - rnd_0[i])) for i in range(500)]) #абсциссы случайно распределённых точек из треугольника с вершинами (0, 0), (1, 0) и (1, 1)\r\n",
        "rnd_2 = np.random.rand(500) * (1 - rnd_1) #ординаты этих точек\r\n",
        "rnd_x = 0.1 + 0.7 * rnd_1 + 0.1 * rnd_2 #абсциссы после аффинного преобразования\r\n",
        "rnd_y = 0.2 - 0.1 * rnd_1 + 0.7 * rnd_2 #то же для ординат\r\n",
        "plt.scatter(rnd_x, rnd_y)\r\n",
        "plt.show()"
      ],
      "execution_count": null,
      "outputs": [
        {
          "output_type": "display_data",
          "data": {
            "image/png": "[encoded data removed]",
            "text/plain": [
              "<Figure size 432x288 with 1 Axes>"
            ]
          },
          "metadata": {
            "tags": [],
            "needs_background": "light"
          }
        }
      ]
    },
    {
      "cell_type": "markdown",
      "metadata": {
        "id": "p69CWYlBdiZW"
      },
      "source": [
        "### Задача\n",
        "Смоделировать выборку из 500 точек внутри данного круга без использования метода отбора."
      ]
    },
    {
      "cell_type": "code",
      "metadata": {
        "id": "trOeYSO9diZW",
        "outputId": "aaa9d07a-96da-4f86-cd68-06c5a5da7c2d"
      },
      "source": [
        "from matplotlib.patches import Circle\n",
        "t = np.linspace(0, 2 * np.pi, 100)\n",
        "plt.plot(np.sin(t), np.cos(t))\n",
        "plt.axis('equal')\n",
        "plt.show()"
      ],
      "execution_count": null,
      "outputs": [
        {
          "output_type": "display_data",
          "data": {
            "image/png": "[encoded data removed]",
            "text/plain": [
              "<matplotlib.figure.Figure at 0x9176748>"
            ]
          },
          "metadata": {
            "tags": []
          }
        }
      ]
    },
    {
      "cell_type": "code",
      "metadata": {
        "id": "D9qZcU9OdiZY",
        "colab": {
          "base_uri": "https://localhost:8080/",
          "height": 265
        },
        "outputId": "96680066-6f99-4563-96d8-f19297387351"
      },
      "source": [
        "rnd_r = np.sqrt(np.random.rand(500)) #радиусы \"равномерно\" распределённых точек\r\n",
        "rnd_phi = np.random.rand(500) * 2 * np.pi #полярные углы\r\n",
        "plt.scatter(rnd_r * np.cos(rnd_phi), rnd_r * np.sin(rnd_phi))\r\n",
        "plt.axis('equal')\r\n",
        "plt.show()"
      ],
      "execution_count": null,
      "outputs": [
        {
          "output_type": "display_data",
          "data": {
            "image/png": "[encoded data removed]",
            "text/plain": [
              "<Figure size 432x288 with 1 Axes>"
            ]
          },
          "metadata": {
            "tags": [],
            "needs_background": "light"
          }
        }
      ]
    },
    {
      "cell_type": "markdown",
      "metadata": {
        "id": "EyDObV-ty70e"
      },
      "source": [
        "### Задача\n",
        "Напишите функцию, которая моделирует случайное симметричное блуждание на двумерной решетке длины n c началом и концом в точке (0, 0). Приведите графики выборочных траекторий для n=100."
      ]
    },
    {
      "cell_type": "code",
      "metadata": {
        "id": "iaSUB9Ocy8hU",
        "colab": {
          "base_uri": "https://localhost:8080/",
          "height": 265
        },
        "outputId": "ea690a11-22c5-4262-903b-4771a66693d5"
      },
      "source": [
        "rnd_1 = np.sort(np.random.randint(0, 51, 50)) + np.arange(50)\r\n",
        "rnd_2 = np.sort(np.random.randint(0, 51, 50)) + np.arange(50)\r\n",
        "rnd_3 = np.full(100, 1)\r\n",
        "rnd_3[rnd_1] = -1\r\n",
        "rnd_4 = np.full(100, 1)\r\n",
        "rnd_4[rnd_2] = -1\r\n",
        "rnd_3 = rnd_3.cumsum()\r\n",
        "rnd_4 = rnd_4.cumsum()\r\n",
        "rnd_x = (rnd_3 + rnd_4) / 2\r\n",
        "rnd_y = (rnd_3 - rnd_4) / 2\r\n",
        "np.insert(rnd_x, 0, 0)\r\n",
        "np.insert(rnd_y, 0, 0)\r\n",
        "plt.plot(rnd_x, rnd_y)\r\n",
        "plt.axis('equal')\r\n",
        "plt.show()"
      ],
      "execution_count": null,
      "outputs": [
        {
          "output_type": "display_data",
          "data": {
            "image/png": "[encoded data removed]",
            "text/plain": [
              "<Figure size 432x288 with 1 Axes>"
            ]
          },
          "metadata": {
            "tags": [],
            "needs_background": "light"
          }
        }
      ]
    },
    {
      "cell_type": "markdown",
      "metadata": {
        "id": "FV7suL2pdiZa"
      },
      "source": [
        "## Random normal generator"
      ]
    },
    {
      "cell_type": "markdown",
      "metadata": {
        "id": "YalKYO-bdiZb"
      },
      "source": [
        "### Задача\n",
        "Докажите, что приведенный ниже алгоритм (Box-Muller algorithm) формирует выборку из независимых N(0,1) случаных величин. Модифицируйте метод, чтобы исключить вызовы тригонометрических функций ```np.sin``` и ```np.cos```. С помощью модифицированного метода смоделируйте выборку объема 1000 из двумерного гауссовского распределения со средним (3, 6) и ковариационной матрицей ((2, 1), (1, 4)). Постройте 2D гистограмму полученного распределения."
      ]
    },
    {
      "cell_type": "code",
      "metadata": {
        "id": "L2ZJeRoJdiZc",
        "colab": {
          "base_uri": "https://localhost:8080/",
          "height": 336
        },
        "outputId": "69cfe2c4-f51b-416e-f95d-685d5474015a"
      },
      "source": [
        "n = 1000\n",
        "u1, u2 = np.random.rand(2, n)\n",
        "r = np.sqrt(-2 * np.log(u1))\n",
        "theta = 2 * np.pi * u2\n",
        "x = r * np.cos(theta)\n",
        "y = r * np.sin(theta)\n",
        "fig, ax = plt.subplots(1, 3, figsize=(15, 5))\n",
        "ax[0].hist2d(x, y, bins=30)\n",
        "ax[0].axis('equal')\n",
        "ax[1].hist(x, bins=30)\n",
        "ax[2].hist(y, bins=30)\n",
        "ax[0].set_title(\"2d histogram\")\n",
        "ax[1].set_title(\"Histogram of x\")\n",
        "ax[2].set_title(\"Histogram of y\")\n",
        "plt.show()"
      ],
      "execution_count": null,
      "outputs": [
        {
          "output_type": "display_data",
          "data": {
            "image/png": "[encoded data removed]",
            "text/plain": [
              "<Figure size 1080x360 with 3 Axes>"
            ]
          },
          "metadata": {
            "tags": [],
            "needs_background": "light"
          }
        }
      ]
    },
    {
      "cell_type": "code",
      "metadata": {
        "id": "DpYdmOuWdiZf",
        "colab": {
          "base_uri": "https://localhost:8080/",
          "height": 336
        },
        "outputId": "36de69d1-0f0c-46ae-9d76-52a5c0fa2e8a"
      },
      "source": [
        "\r\n",
        "n = 0\r\n",
        "x = []\r\n",
        "y = []\r\n",
        "while(n < 1000):\r\n",
        "    u= rn.uniform(-1, 1)\r\n",
        "    v = rn.uniform(-1, 1)\r\n",
        "    s = u * u + v * v\r\n",
        "    if(s > 0 and s <= 1):\r\n",
        "        x.append(u * mt.sqrt(-2 * mt.log(s) / s))\r\n",
        "        y.append(v * mt.sqrt(-2 * mt.log(s) / s))\r\n",
        "    n += 1\r\n",
        "x = np.array(x)\r\n",
        "y = np.array(y)\r\n",
        "y *= mt.sqrt(7 / 2)\r\n",
        "y += 1 / mt.sqrt(2) * x\r\n",
        "x *= mt.sqrt(2)\r\n",
        "x += 3\r\n",
        "y += 6\r\n",
        "fig, ax = plt.subplots(1, 3, figsize = (15, 5))\r\n",
        "ax[0].hist2d(x, y, bins=30)\r\n",
        "ax[0].axis('equal')\r\n",
        "ax[1].hist(x, bins=30)\r\n",
        "ax[2].hist(y, bins=30)\r\n",
        "ax[0].set_title(\"2d histogram\")\r\n",
        "ax[1].set_title(\"Histogram of x\")\r\n",
        "ax[2].set_title(\"Histogram of y\")\r\n",
        "plt.show()"
      ],
      "execution_count": null,
      "outputs": [
        {
          "output_type": "display_data",
          "data": {
            "image/png": "[encoded data removed]",
            "text/plain": [
              "<Figure size 1080x360 with 3 Axes>"
            ]
          },
          "metadata": {
            "tags": [],
            "needs_background": "light"
          }
        }
      ]
    },
    {
      "cell_type": "markdown",
      "metadata": {
        "id": "nhW6gKupg6PV"
      },
      "source": [
        "### Задача\n",
        "Перейдите от вектора из независимых стандартных нормальных величин к гауссовскому вектору с нулевым средним и заданной ниже ковариационно матрицей. Обоснуйте теоретически и численно, что полученный вектор обладает требуемой ковариационной матрицей.\n"
      ]
    },
    {
      "cell_type": "code",
      "metadata": {
        "id": "amdo0HMEgkrt",
        "colab": {
          "base_uri": "https://localhost:8080/"
        },
        "outputId": "8a9c9c93-5b9b-45e4-967b-1f1b59785dd7"
      },
      "source": [
        "B = np.array([[ 2.,  0.,  0.,  0., -1.,  0.,  0.,  0., -1.],\n",
        "              [ 0.,  4.,  0., -1.,  0.,  0.,  0.,  0.,  0.],\n",
        "              [ 0.,  0.,  4.,  0.,  0.,  0., -1.,  0.,  0.],\n",
        "              [ 0., -1.,  0.,  4.,  0.,  0.,  0.,  0.,  0.],\n",
        "              [-1.,  0.,  0.,  0.,  2.,  0.,  0.,  0., -1.],\n",
        "              [ 0.,  0.,  0.,  0.,  0.,  4.,  0., -1.,  0.],\n",
        "              [ 0.,  0., -1.,  0.,  0.,  0.,  4.,  0.,  0.],\n",
        "              [ 0.,  0.,  0.,  0.,  0., -1.,  0.,  4.,  0.],\n",
        "              [-1.,  0.,  0.,  0., -1.,  0.,  0.,  0.,  2.]])\n",
        "print(np.linalg.det(B))\n",
        "print(np.linalg.det(B[np.arange(8)][:, np.arange(8)]))\n",
        "A = np.zeros((9, 9))\n",
        "A8 = np.linalg.cholesky(B[np.arange(8)][:, np.arange(8)])\n",
        "for i in range(8):\n",
        "    for j in range(8):\n",
        "        A[i, j] = A8[i, j]\n",
        "A[8] = -A[0] - A[4]\n",
        "rnd_1 = np.random.normal(size = (9, 1000000))\n",
        "rnd_2 = np.dot(A, rnd_1)\n",
        "S_n = 0\n",
        "n = 0\n",
        "while(True):\n",
        "    x = rn.uniform(-1, 1)\n",
        "    y = rn.uniform(-1, 1)\n",
        "    if(x * x + y * y <= 1):\n",
        "        S_n += 4\n",
        "    n += 1\n",
        "    if(abs(S_n / n - np.pi) < 0.001):\n",
        "        print(n)\n",
        "        break"
      ],
      "execution_count": null,
      "outputs": [
        {
          "output_type": "stream",
          "text": [
            "0.0\n",
            "10125.000000000007\n",
            "955\n"
          ],
          "name": "stdout"
        }
      ]
    },
    {
      "cell_type": "markdown",
      "metadata": {
        "id": "z5WCYFYtODqJ"
      },
      "source": [
        "### Задача\r\n",
        "С помощью метода Монте-Карло (бросанием случайной точки в квадрат) оцените число $\\pi$. Теоретически обоснуйте необходимое число бросаний, чтобы оценить число $\\pi$ с точностью 3 знака после запятой и достоверностью 99%. С помощью метода Монте-Карло оцените, сколько на практике требуется бросаний, чтобы достичь с требуемой достоверностью нужной точности.\r\n"
      ]
    },
    {
      "cell_type": "code",
      "metadata": {
        "colab": {
          "base_uri": "https://localhost:8080/"
        },
        "id": "nzmYt8OeOGKS",
        "outputId": "6f60e778-017b-460d-fff5-cd816d8ac4f8"
      },
      "source": [
        "import math\r\n",
        "import random\r\n",
        "def monte_carlo(n):\r\n",
        "    inside = 0\r\n",
        "    for i in np.arange(n):\r\n",
        "        x = random.uniform(-1,1)\r\n",
        "        y = random.uniform(-1,1)\r\n",
        "        if math.sqrt((x**2+y**2)) < 1.0:\r\n",
        "            inside += 1\r\n",
        "# inside / n = pi / 4\r\n",
        "    pi = (float(inside) / n) * 4\r\n",
        "    return(pi)\r\n",
        "monte_carlo(700000)"
      ],
      "execution_count": 5,
      "outputs": [
        {
          "output_type": "execute_result",
          "data": {
            "text/plain": [
              "3.140902857142857"
            ]
          },
          "metadata": {
            "tags": []
          },
          "execution_count": 5
        }
      ]
    },
    {
      "cell_type": "markdown",
      "metadata": {
        "id": "14IvUqPM35xs"
      },
      "source": [
        "### Задача\n",
        "\n",
        "Реализовать метод генерации случайного разбиения n-элементного множества на подмножества. С его помощью оценить ожидаемое число подмножеств в случайном разбиении множества из 100 элементов. \n",
        "\n",
        "Подсказка 1: Ширяев, Вероятность, т1, задача 2 к параграфу 1.\n",
        "\n",
        "Подсказка 2: http://djalil.chafai.net/blog/2012/05/03/generating-uniform-random-partitions/"
      ]
    },
    {
      "cell_type": "code",
      "metadata": {
        "id": "XrRiVz6idiZk",
        "colab": {
          "base_uri": "https://localhost:8080/"
        },
        "outputId": "e5baef6f-ca25-4525-8655-8ffa5252d24f"
      },
      "source": [
        "bin_coef = np.zeros((101, 101))\r\n",
        "for i in range(101):\r\n",
        "    bin_coef[i, 0] = 1\r\n",
        "    for j in range(1, i + 1):\r\n",
        "        bin_coef[i, j] = bin_coef[i - 1, j - 1] + bin_coef[i - 1, j]\r\n",
        "\r\n",
        "B = np.zeros(101)\r\n",
        "B[0] = 1\r\n",
        "for i in range(1, 101):\r\n",
        "    s = 0\r\n",
        "    for j in range(i):\r\n",
        "        s += bin_coef[i - 1, j] * B[j]\r\n",
        "    B[i] = s\r\n",
        "\r\n",
        "sum = 0\r\n",
        "for i in range(1000):\r\n",
        "    x = rn.random()\r\n",
        "    s = 0\r\n",
        "    K = 0\r\n",
        "    while(s < x):\r\n",
        "        K += 1\r\n",
        "        s += K ** 100 / (mt.factorial(K) * np.e * B[100])\r\n",
        "    C = np.random.randint(1, K + 1, 100)\r\n",
        "    sum += len(np.unique(C))\r\n",
        "print(0.001 * sum)"
      ],
      "execution_count": null,
      "outputs": [
        {
          "output_type": "stream",
          "text": [
            "28.699\n"
          ],
          "name": "stdout"
        }
      ]
    }
  ]
}